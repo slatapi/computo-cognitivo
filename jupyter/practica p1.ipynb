{
 "cells": [
  {
   "cell_type": "code",
   "execution_count": 77,
   "metadata": {
    "collapsed": true,
    "deletable": true,
    "editable": true
   },
   "outputs": [],
   "source": [
    "import pandas as pd\n",
    "import scipy as sp\n",
    "import sklearn as skl\n",
    "import numpy as np\n",
    "import matplotlib as mtplt\n",
    "import matplotlib.pyplot as plt\n",
    "%matplotlib inline\n",
    "import tensorflow as tf"
   ]
  },
  {
   "cell_type": "code",
   "execution_count": 78,
   "metadata": {
    "collapsed": false,
    "deletable": true,
    "editable": true
   },
   "outputs": [],
   "source": [
    "bdmg = pd.read_csv('../files/blade_damage_assessment.csv', low_memory=False)\n",
    "#bdmgtest = pd.read_csv('../files/blade_damage_assessment_test.csv', low_memory=False)"
   ]
  },
  {
   "cell_type": "code",
   "execution_count": 79,
   "metadata": {
    "collapsed": false,
    "deletable": true,
    "editable": true
   },
   "outputs": [
    {
     "data": {
      "text/html": [
       "<div>\n",
       "<table border=\"1\" class=\"dataframe\">\n",
       "  <thead>\n",
       "    <tr style=\"text-align: right;\">\n",
       "      <th></th>\n",
       "      <th>engine_id</th>\n",
       "      <th>customer</th>\n",
       "      <th>engine_type</th>\n",
       "      <th>category</th>\n",
       "      <th>damage</th>\n",
       "      <th>flight_id</th>\n",
       "      <th>t_1</th>\n",
       "      <th>t_2</th>\n",
       "      <th>t_3</th>\n",
       "      <th>t_4</th>\n",
       "      <th>t_oil</th>\n",
       "      <th>p_oil</th>\n",
       "      <th>vibrations_2</th>\n",
       "      <th>vibrations_4</th>\n",
       "      <th>core_speed</th>\n",
       "      <th>fan_speed</th>\n",
       "      <th>thrust</th>\n",
       "    </tr>\n",
       "  </thead>\n",
       "  <tbody>\n",
       "    <tr>\n",
       "      <th>0</th>\n",
       "      <td>700000</td>\n",
       "      <td>ACC</td>\n",
       "      <td>EX-50B</td>\n",
       "      <td>non-failed</td>\n",
       "      <td>38</td>\n",
       "      <td>1</td>\n",
       "      <td>27.169333</td>\n",
       "      <td>97.409398</td>\n",
       "      <td>568.554307180454</td>\n",
       "      <td>800.617771526119</td>\n",
       "      <td>73.664163</td>\n",
       "      <td>59.755336</td>\n",
       "      <td>0.0844030348911414</td>\n",
       "      <td>0.288484308226124</td>\n",
       "      <td>103.988490040037</td>\n",
       "      <td>86.759646</td>\n",
       "      <td>43824.077117</td>\n",
       "    </tr>\n",
       "    <tr>\n",
       "      <th>1</th>\n",
       "      <td>700000</td>\n",
       "      <td>ACC</td>\n",
       "      <td>EX-50B</td>\n",
       "      <td>non-failed</td>\n",
       "      <td>38</td>\n",
       "      <td>2</td>\n",
       "      <td>34.423444</td>\n",
       "      <td>131.146137</td>\n",
       "      <td>709.525734761479</td>\n",
       "      <td>904.861162536342</td>\n",
       "      <td>83.995234</td>\n",
       "      <td>91.238090</td>\n",
       "      <td>0.11583599227328</td>\n",
       "      <td>0.260483903090653</td>\n",
       "      <td>110.245548851895</td>\n",
       "      <td>92.174964</td>\n",
       "      <td>48131.620917</td>\n",
       "    </tr>\n",
       "    <tr>\n",
       "      <th>2</th>\n",
       "      <td>700000</td>\n",
       "      <td>ACC</td>\n",
       "      <td>EX-50B</td>\n",
       "      <td>non-failed</td>\n",
       "      <td>38</td>\n",
       "      <td>3</td>\n",
       "      <td>21.498867</td>\n",
       "      <td>95.264770</td>\n",
       "      <td>554.715309731843</td>\n",
       "      <td>779.022122640642</td>\n",
       "      <td>88.876758</td>\n",
       "      <td>99.558113</td>\n",
       "      <td>0.146035417636678</td>\n",
       "      <td>0.283297051916144</td>\n",
       "      <td>103.556756846575</td>\n",
       "      <td>88.105862</td>\n",
       "      <td>43676.985766</td>\n",
       "    </tr>\n",
       "    <tr>\n",
       "      <th>3</th>\n",
       "      <td>700000</td>\n",
       "      <td>ACC</td>\n",
       "      <td>EX-50B</td>\n",
       "      <td>non-failed</td>\n",
       "      <td>38</td>\n",
       "      <td>4</td>\n",
       "      <td>19.168106</td>\n",
       "      <td>82.892583</td>\n",
       "      <td>526.308476851884</td>\n",
       "      <td>757.484591914129</td>\n",
       "      <td>75.986135</td>\n",
       "      <td>102.696245</td>\n",
       "      <td>0.805832251423062</td>\n",
       "      <td>0.139379412491953</td>\n",
       "      <td>102.115886237848</td>\n",
       "      <td>85.823801</td>\n",
       "      <td>42946.711363</td>\n",
       "    </tr>\n",
       "    <tr>\n",
       "      <th>4</th>\n",
       "      <td>700000</td>\n",
       "      <td>ACC</td>\n",
       "      <td>EX-50B</td>\n",
       "      <td>non-failed</td>\n",
       "      <td>38</td>\n",
       "      <td>5</td>\n",
       "      <td>15.651451</td>\n",
       "      <td>88.250109</td>\n",
       "      <td>639.345044901446</td>\n",
       "      <td>814.660706963478</td>\n",
       "      <td>83.866920</td>\n",
       "      <td>96.889143</td>\n",
       "      <td>0.314611446543913</td>\n",
       "      <td>-0.00690196872612958</td>\n",
       "      <td>107.04135764277</td>\n",
       "      <td>90.942846</td>\n",
       "      <td>46685.678299</td>\n",
       "    </tr>\n",
       "  </tbody>\n",
       "</table>\n",
       "</div>"
      ],
      "text/plain": [
       "   engine_id customer engine_type    category  damage  flight_id        t_1  \\\n",
       "0     700000      ACC      EX-50B  non-failed      38          1  27.169333   \n",
       "1     700000      ACC      EX-50B  non-failed      38          2  34.423444   \n",
       "2     700000      ACC      EX-50B  non-failed      38          3  21.498867   \n",
       "3     700000      ACC      EX-50B  non-failed      38          4  19.168106   \n",
       "4     700000      ACC      EX-50B  non-failed      38          5  15.651451   \n",
       "\n",
       "          t_2               t_3               t_4      t_oil       p_oil  \\\n",
       "0   97.409398  568.554307180454  800.617771526119  73.664163   59.755336   \n",
       "1  131.146137  709.525734761479  904.861162536342  83.995234   91.238090   \n",
       "2   95.264770  554.715309731843  779.022122640642  88.876758   99.558113   \n",
       "3   82.892583  526.308476851884  757.484591914129  75.986135  102.696245   \n",
       "4   88.250109  639.345044901446  814.660706963478  83.866920   96.889143   \n",
       "\n",
       "         vibrations_2          vibrations_4        core_speed  fan_speed  \\\n",
       "0  0.0844030348911414     0.288484308226124  103.988490040037  86.759646   \n",
       "1    0.11583599227328     0.260483903090653  110.245548851895  92.174964   \n",
       "2   0.146035417636678     0.283297051916144  103.556756846575  88.105862   \n",
       "3   0.805832251423062     0.139379412491953  102.115886237848  85.823801   \n",
       "4   0.314611446543913  -0.00690196872612958   107.04135764277  90.942846   \n",
       "\n",
       "         thrust  \n",
       "0  43824.077117  \n",
       "1  48131.620917  \n",
       "2  43676.985766  \n",
       "3  42946.711363  \n",
       "4  46685.678299  "
      ]
     },
     "execution_count": 79,
     "metadata": {},
     "output_type": "execute_result"
    }
   ],
   "source": [
    "bdmg.head(5)"
   ]
  },
  {
   "cell_type": "code",
   "execution_count": 80,
   "metadata": {
    "collapsed": false,
    "deletable": true,
    "editable": true
   },
   "outputs": [
    {
     "name": "stdout",
     "output_type": "stream",
     "text": [
      "deleted rows0\n"
     ]
    }
   ],
   "source": [
    "#pre clean - all na\n",
    "totorg = bdmg.shape[0]\n",
    "org= bdmg.shape[0]\n",
    "bdmg.dropna(how='all') #drop all rows that all columns are NA\n",
    "fin = bdmg.shape[0]\n",
    "del1 = org - fin\n",
    "print('deleted rows'+ str(del1))"
   ]
  },
  {
   "cell_type": "code",
   "execution_count": 81,
   "metadata": {
    "collapsed": false,
    "deletable": true,
    "editable": true
   },
   "outputs": [
    {
     "name": "stdout",
     "output_type": "stream",
     "text": [
      "deleted rows299\n"
     ]
    }
   ],
   "source": [
    "# data clean 1 - temperatures\n",
    "org= bdmg.shape[0]\n",
    "#bdmg[\"t_3\"] = bdmg[\"t_3\"].astype(str).convert_objects(convert_numeric=True)\n",
    "bdmg[\"t_3\"] = pd.to_numeric(bdmg[\"t_3\"],errors=\"coerce\")\n",
    "bdmg[\"t_4\"] = pd.to_numeric(bdmg[\"t_4\"],errors=\"coerce\")\n",
    "bdmg.dropna(subset=['t_3'])\n",
    "bdmg.dropna(subset=['t_4'])\n",
    "\n",
    "bdmg = bdmg.drop(bdmg[bdmg.t_1 < -273].index)\n",
    "bdmg = bdmg.drop(bdmg[bdmg.t_2 < -273].index)\n",
    "bdmg = bdmg.drop(bdmg[bdmg.t_3 < -273].index)\n",
    "bdmg = bdmg.drop(bdmg[bdmg.t_4 < -273].index)\n",
    "bdmg = bdmg.drop(bdmg[bdmg.t_oil < -273].index)\n",
    "fin = bdmg.shape[0]\n",
    "del2 = org - fin\n",
    "print('deleted rows'+ str(del2))"
   ]
  },
  {
   "cell_type": "code",
   "execution_count": 82,
   "metadata": {
    "collapsed": false,
    "deletable": true,
    "editable": true
   },
   "outputs": [
    {
     "name": "stdout",
     "output_type": "stream",
     "text": [
      "deleted rows186\n"
     ]
    }
   ],
   "source": [
    "#data clean 2 - speeds & thrust\n",
    "org= bdmg.shape[0]\n",
    "\n",
    "bdmg['core_speed'] = pd.to_numeric(bdmg['core_speed'],errors='coerce')\n",
    "bdmg['fan_speed'] = pd.to_numeric(bdmg['core_speed'],errors='coerce')\n",
    "bdmg['thrust'] = pd.to_numeric(bdmg['thrust'],errors='coerce')\n",
    "bdmg.dropna(subset=['core_speed'])\n",
    "bdmg.dropna(subset=['fan_speed'])\n",
    "bdmg.dropna(subset=['thrust'])\n",
    "\n",
    "bdmg = bdmg.drop(bdmg[bdmg.core_speed < 0].index)\n",
    "bdmg = bdmg.drop(bdmg[bdmg.fan_speed < 0].index)\n",
    "bdmg = bdmg.drop(bdmg[bdmg.thrust < 0].index)\n",
    "\n",
    "fin = bdmg.shape[0]\n",
    "del3 = org -fin\n",
    "print('deleted rows'+ str(del3))"
   ]
  },
  {
   "cell_type": "code",
   "execution_count": 83,
   "metadata": {
    "collapsed": false,
    "deletable": true,
    "editable": true
   },
   "outputs": [
    {
     "name": "stdout",
     "output_type": "stream",
     "text": [
      "deleted rows0\n"
     ]
    }
   ],
   "source": [
    "#data clean 3 - preasure\n",
    "org= bdmg.shape[0]\n",
    "\n",
    "bdmg['p_oil'] = pd.to_numeric(bdmg['p_oil'],errors='coerce')\n",
    "bdmg.dropna(subset=['p_oil'])\n",
    "\n",
    "bdmg = bdmg.drop(bdmg[bdmg.p_oil < 0].index)\n",
    "\n",
    "fin = bdmg.shape[0]\n",
    "del4 = org -fin\n",
    "print('deleted rows'+ str(del4))"
   ]
  },
  {
   "cell_type": "code",
   "execution_count": 84,
   "metadata": {
    "collapsed": false,
    "deletable": true,
    "editable": true
   },
   "outputs": [
    {
     "name": "stdout",
     "output_type": "stream",
     "text": [
      "deleted rows0\n",
      "deleted rows485\n",
      "percentage deleted rows 0.02472728607583578%\n"
     ]
    }
   ],
   "source": [
    "#data clean 4 - vibrations\n",
    "org= bdmg.shape[0]\n",
    "\n",
    "bdmg['vibrations_2'] = pd.to_numeric(bdmg['vibrations_2'],errors='coerce')\n",
    "bdmg.dropna(subset=['vibrations_2'])\n",
    "bdmg['vibrations_4'] = pd.to_numeric(bdmg['vibrations_4'],errors='coerce')\n",
    "bdmg.dropna(subset=['vibrations_4'])\n",
    "\n",
    "fin = bdmg.shape[0]\n",
    "del5 = org -fin\n",
    "print('deleted rows'+ str(del5))\n",
    "\n",
    "print('deleted rows' + str(del1+del2+del3+del4+del5))\n",
    "print('percentage deleted rows '+str(((del1+del2+del3+del4+del5)/totorg)*100 ) +'%')"
   ]
  },
  {
   "cell_type": "code",
   "execution_count": 85,
   "metadata": {
    "collapsed": true,
    "deletable": true,
    "editable": true
   },
   "outputs": [],
   "source": [
    "# categorizar columnas\n",
    "# engine type\n",
    "bdmg.loc[bdmg['engine_type'] == 'EX-50A','engine_type'] = 1 # EX-50A => 1\n",
    "bdmg.loc[bdmg['engine_type'] == 'EX-50B','engine_type'] = 2 # EX-50A => 2\n",
    "#failed\n",
    "bdmg.loc[bdmg['category'] == 'failed','category'] = 1 # failed => 1\n",
    "bdmg.loc[bdmg['category'] == 'non-failed','category'] = 0 # non failed => 0"
   ]
  },
  {
   "cell_type": "code",
   "execution_count": 86,
   "metadata": {
    "collapsed": false,
    "deletable": true,
    "editable": true
   },
   "outputs": [],
   "source": [
    "engID = (pd.Series.value_counts(bdmg['engine_id']))\n",
    "engTyp = (pd.Series.value_counts(bdmg['engine_type']))\n",
    "custName = (pd.Series.value_counts(bdmg['customer']))\n",
    "flightID = (pd.Series.value_counts(bdmg['flight_id']))"
   ]
  },
  {
   "cell_type": "code",
   "execution_count": null,
   "metadata": {
    "collapsed": false,
    "deletable": true,
    "editable": true
   },
   "outputs": [],
   "source": []
  },
  {
   "cell_type": "code",
   "execution_count": 87,
   "metadata": {
    "collapsed": false,
    "deletable": true,
    "editable": true
   },
   "outputs": [
    {
     "data": {
      "image/png": "[encoded data removed]",
      "text/plain": [
       "<matplotlib.figure.Figure at 0x7ff796ba7d30>"
      ]
     },
     "metadata": {},
     "output_type": "display_data"
    }
   ],
   "source": [
    "labels = 'ACC', 'ASI', 'DME', 'FAR', 'SLA'\n",
    "\n",
    "\n",
    "sizes = [custName['ACC'], \n",
    "         custName['ASI'],\n",
    "         custName['DME'],\n",
    "         custName['FAR'],\n",
    "         custName['SLA']\n",
    "        ]\n",
    "\n",
    "explode = (0, 0, 0, 0, 0)  # only \"explode\" the 2nd slice (i.e. 'Hogs')\n",
    "\n",
    "fig1, ax1 = plt.subplots()\n",
    "ax1.pie(sizes, explode=explode, labels=labels, autopct='%1.1f%%',\n",
    "        shadow=True, startangle=90)\n",
    "ax1.axis('equal')  # Equal aspect ratio ensures that pie is drawn as a circle.\n",
    "\n",
    "plt.show()"
   ]
  },
  {
   "cell_type": "code",
   "execution_count": 88,
   "metadata": {
    "collapsed": false,
    "deletable": true,
    "editable": true
   },
   "outputs": [
    {
     "name": "stdout",
     "output_type": "stream",
     "text": [
      "ASI    398268\n",
      "ACC    395756\n",
      "FAR    390478\n",
      "SLA    389802\n",
      "DME    386607\n",
      "Name: customer, dtype: int64\n",
      "         engine_id customer engine_type category  damage  flight_id  \\\n",
      "39854       700034      DME           1        0      25          1   \n",
      "39855       700034      DME           1        0      25          2   \n",
      "39856       700034      DME           1        0      25          3   \n",
      "39857       700034      DME           1        0      25          4   \n",
      "39858       700034      DME           1        0      25          5   \n",
      "39859       700034      DME           1        0      25          6   \n",
      "39860       700034      DME           1        0      25          7   \n",
      "39861       700034      DME           1        0      25          8   \n",
      "39862       700034      DME           1        0      25          9   \n",
      "39863       700034      DME           1        0      25         10   \n",
      "39864       700034      DME           1        0      25         11   \n",
      "39865       700034      DME           1        0      25         12   \n",
      "39866       700034      DME           1        0      25         13   \n",
      "39867       700034      DME           1        0      25         14   \n",
      "39868       700034      DME           1        0      25         15   \n",
      "39869       700034      DME           1        0      25         16   \n",
      "39870       700034      DME           1        0      25         17   \n",
      "39871       700034      DME           1        0      25         18   \n",
      "39872       700034      DME           1        0      25         19   \n",
      "39873       700034      DME           1        0      25         20   \n",
      "39874       700034      DME           1        0      25         21   \n",
      "39875       700034      DME           1        0      25         22   \n",
      "39876       700034      DME           1        0      25         23   \n",
      "39877       700034      DME           1        0      25         24   \n",
      "39878       700034      DME           1        0      25         25   \n",
      "39879       700034      DME           1        0      25         26   \n",
      "39880       700034      DME           1        0      25         27   \n",
      "39881       700034      DME           1        0      25         28   \n",
      "39882       700034      DME           1        0      25         29   \n",
      "39883       700034      DME           1        0      25         30   \n",
      "...            ...      ...         ...      ...     ...        ...   \n",
      "1923574     701955      DME           1        1      61       6028   \n",
      "1923575     701955      DME           1        1      61       6029   \n",
      "1923576     701955      DME           1        1      61       6030   \n",
      "1923577     701955      DME           1        1      61       6031   \n",
      "1923578     701955      DME           1        1      61       6032   \n",
      "1923579     701955      DME           1        1      61       6033   \n",
      "1923580     701955      DME           1        1      61       6034   \n",
      "1923581     701955      DME           1        1      61       6035   \n",
      "1923582     701955      DME           1        1      61       6036   \n",
      "1923583     701955      DME           1        1      61       6037   \n",
      "1923584     701955      DME           1        1      61       6038   \n",
      "1923585     701955      DME           1        1      61       6039   \n",
      "1923586     701955      DME           1        1      61       6040   \n",
      "1923587     701955      DME           1        1      61       6041   \n",
      "1923588     701955      DME           1        1      61       6042   \n",
      "1923589     701955      DME           1        1      61       6043   \n",
      "1923590     701955      DME           1        1      61       6044   \n",
      "1923591     701955      DME           1        1      61       6045   \n",
      "1923592     701955      DME           1        1      61       6046   \n",
      "1923593     701955      DME           1        1      61       6047   \n",
      "1923594     701955      DME           1        1      61       6048   \n",
      "1923595     701955      DME           1        1      61       6049   \n",
      "1923596     701955      DME           1        1      61       6050   \n",
      "1923597     701955      DME           1        1      61       6051   \n",
      "1923598     701955      DME           1        1      61       6052   \n",
      "1923599     701955      DME           1        1      61       6053   \n",
      "1923600     701955      DME           1        1      61       6054   \n",
      "1923601     701955      DME           1        1      61       6055   \n",
      "1923602     701955      DME           1        1      61       6056   \n",
      "1923603     701955      DME           1        1      61       6057   \n",
      "\n",
      "               t_1         t_2         t_3         t_4       t_oil  \\\n",
      "39854    14.270504   76.682864  596.544160  782.497195   72.355743   \n",
      "39855    35.375478  104.536997  561.292268  810.334896   69.961060   \n",
      "39856    24.713217   85.566444  512.760173  769.185318   68.694324   \n",
      "39857    12.715195   60.307515  542.038991  750.155834   51.581996   \n",
      "39858    22.884311   90.063496  624.995099  819.175516   61.986497   \n",
      "39859    22.957547  109.693773  768.811052  914.355887   74.582110   \n",
      "39860    25.940658  101.552897  633.453536  830.038881   72.575491   \n",
      "39861    23.144021   95.847924  605.990961  809.190098   76.176812   \n",
      "39862    23.241923   96.950670  629.494342  822.332813   73.688613   \n",
      "39863    34.694887  108.062434  611.812103  832.638575   64.522307   \n",
      "39864    23.391863   91.696778  554.892199  784.066135   76.624932   \n",
      "39865    12.840483   64.962910  534.382208  746.558788   61.336303   \n",
      "39866     9.937096   71.936982  548.562521  744.450817   85.137880   \n",
      "39867    35.007746  121.103899  683.012787  872.620429   69.894937   \n",
      "39868    22.769315   74.081297  435.819266  736.563468   65.021484   \n",
      "39869    12.940131   58.315941  449.467603  711.631439   56.531559   \n",
      "39870    23.628017   87.788300  596.386151  804.833688   60.331226   \n",
      "39871    21.561033   80.239316  606.493467  805.573138   50.537241   \n",
      "39872    24.490741  103.986905  632.429304  826.210470   82.853663   \n",
      "39873    24.030164   89.825630  606.923684  811.148696   61.087780   \n",
      "39874    20.278796   83.615243  668.235632  838.614033   51.948574   \n",
      "39875    23.753024  105.906165  659.161816  840.347169   84.286654   \n",
      "39876    11.161274   63.585174  544.339654  745.693961   64.136233   \n",
      "39877    17.538238   74.200539  493.865985  742.023372   69.319083   \n",
      "39878    31.102886  111.335928  625.937821  834.286030   77.489897   \n",
      "39879    18.242813   84.574678  576.041326  781.228286   76.025005   \n",
      "39880    18.047145   91.008049  562.344000  773.836476   91.586524   \n",
      "39881    18.408876   80.492946  656.569580  826.741292   55.438052   \n",
      "39882    18.889845   74.409656  540.893360  765.758877   58.749519   \n",
      "39883    33.500998  106.573202  622.671889  836.011079   61.963560   \n",
      "...            ...         ...         ...         ...         ...   \n",
      "1923574  26.688508   99.947996  643.341975  894.233249   64.433862   \n",
      "1923575  18.605061   81.823721  566.402195  823.884150   70.050171   \n",
      "1923576  20.694495   82.223988  640.348858  877.358546   51.532657   \n",
      "1923577  24.866038   98.506730  603.974298  864.080126   75.768149   \n",
      "1923578  16.076555   79.840831  534.301203  797.800816   79.177892   \n",
      "1923579  28.979221  101.703656  585.727593  862.676405   73.558253   \n",
      "1923580  17.575244   75.538001  557.915212  815.988193   62.218218   \n",
      "1923581  36.807023  131.679481  692.425938  947.598251   82.467103   \n",
      "1923582  19.993244   82.783726  544.574621  815.692864   70.650544   \n",
      "1923583  30.899761  108.729806  606.480805  879.508960   77.194638   \n",
      "1923584  27.097250  117.458555  711.509165  945.603759   83.179807   \n",
      "1923585  25.228324  109.104535  581.412838  851.376446  100.256977   \n",
      "1923586  22.227883   80.885728  529.360856  813.997875   62.610908   \n",
      "1923587  32.942497  118.849791  669.575819  925.353181   75.167060   \n",
      "1923588  31.710578  113.610266  650.661987  910.006808   73.442719   \n",
      "1923589  32.540751  101.638308  597.955859  877.774736   60.653337   \n",
      "1923590  22.125981   86.804644  544.028121  821.800584   72.105645   \n",
      "1923591  11.918641   76.224454  562.643288  800.969818   83.885861   \n",
      "1923592  24.203114   83.368886  501.302016  805.533851   67.412445   \n",
      "1923593  16.069056   88.227279  669.793195  885.881311   78.379461   \n",
      "1923594  36.469904  126.741088  695.173505  949.463071   72.736790   \n",
      "1923595  33.032517  110.155806  656.798975  916.773089   60.811812   \n",
      "1923596  35.199504  122.619156  642.253344  910.606204   83.381591   \n",
      "1923597  22.971131   92.690555  566.025986  836.831711   77.254730   \n",
      "1923598  30.671568  110.170457  561.084401  852.919570   91.742614   \n",
      "1923599   5.196356   61.547904  498.103573  740.697321   85.397189   \n",
      "1923600  16.069735   68.535037  523.450581  792.711029   57.727372   \n",
      "1923601  36.840069  107.834102  586.577582  879.328447   65.743558   \n",
      "1923602  15.202796   76.280577  542.995612  800.804370   73.717413   \n",
      "1923603  30.889328  111.349186  649.018816  907.729305   71.795883   \n",
      "\n",
      "              p_oil  vibrations_2  vibrations_4  core_speed   fan_speed  \\\n",
      "39854     79.184474      0.331298      0.303048  104.754797  104.754797   \n",
      "39855     54.957722      0.606232      0.168651  103.912771  103.912771   \n",
      "39856    107.828212      0.503267      0.140018  101.684889  101.684889   \n",
      "39857     82.012462      0.070715      0.229097  101.493444  101.493444   \n",
      "39858     54.477734      0.757346      0.123566  106.071622  106.071622   \n",
      "39859     99.347613      0.309616      0.195151  115.465528  115.465528   \n",
      "39860     86.520093      0.471903      0.210318  106.784812  106.784812   \n",
      "39861     55.467914      0.608316      0.204299  105.538989  105.538989   \n",
      "39862     93.284984      0.470476      0.044885  106.619309  106.619309   \n",
      "39863     79.069957      0.292020      0.198514  105.627308  105.627308   \n",
      "39864     75.918568      0.191417      0.369725  103.334290  103.334290   \n",
      "39865     81.567497      0.365129      0.441180  101.442851  101.442851   \n",
      "39866     71.352471      0.272514      0.374221  102.564004  102.564004   \n",
      "39867    123.157233      0.150804      0.151182  108.977774  108.977774   \n",
      "39868     71.432576      0.254599      0.560110   99.111854   99.111854   \n",
      "39869     80.268577      0.175629      0.218751   98.200471   98.200471   \n",
      "39870     85.206171      0.205993      0.256335  104.668166  104.668166   \n",
      "39871     75.841134      0.270809      0.312583  104.811591  104.811591   \n",
      "39872     63.106427      0.215797     -0.062603  107.005536  107.005536   \n",
      "39873     85.978375     -0.214382      0.388359  105.174085  105.174085   \n",
      "39874     90.098246      0.436592      0.333002  108.099767  108.099767   \n",
      "39875     96.666976      0.517308      0.259011  108.472620  108.472620   \n",
      "39876     77.273548      0.476108      0.250604  101.804508  101.804508   \n",
      "39877     90.125653      0.072862      0.091492  100.455710  100.455710   \n",
      "39878     45.592060      0.735415      0.333932  106.511568  106.511568   \n",
      "39879     57.044039      0.568552      0.187750  103.979998  103.979998   \n",
      "39880     81.286317      0.201436      0.348796  103.787616  103.787616   \n",
      "39881     82.179914      0.415936      0.354528  107.529189  107.529189   \n",
      "39882     65.641183      0.395682      0.226257  102.030962  102.030962   \n",
      "39883     71.746367      0.590707      0.390652  105.986148  105.986148   \n",
      "...             ...           ...           ...         ...         ...   \n",
      "1923574   85.155400      0.526822      0.715945  112.702586  112.702586   \n",
      "1923575   63.074280     -0.014297      0.370357  108.812379  108.812379   \n",
      "1923576   82.252138      0.483839      0.402675  112.217165  112.217165   \n",
      "1923577   75.035170      0.670089      0.265372  110.962180  110.962180   \n",
      "1923578   87.843296      0.267889      0.587972  107.467305  107.467305   \n",
      "1923579   97.685228      0.045947      0.371427  110.105342  110.105342   \n",
      "1923580   72.728989      0.532915      0.238636  108.151836  108.151836   \n",
      "1923581   84.342303      0.235763      0.318798  115.495694  115.495694   \n",
      "1923582   79.259229      0.305294      0.580840  107.913235  107.913235   \n",
      "1923583   96.896072      0.400231      0.175110  111.156783  111.156783   \n",
      "1923584   63.896774     -0.154123      0.245558  117.398483  117.398483   \n",
      "1923585   44.000506      0.200800      0.169252  110.534343  110.534343   \n",
      "1923586   62.862500      0.415257      0.069969  107.202840  107.202840   \n",
      "1923587   88.007112      0.239769      0.397375  114.253235  114.253235   \n",
      "1923588   96.222415      0.677642      0.650330  113.236197  113.236197   \n",
      "1923589   77.589666      0.540771      0.205410  110.394387  110.394387   \n",
      "1923590   65.176068      0.219279      0.552880  108.048652  108.048652   \n",
      "1923591   79.468657      0.114419      0.199464  108.741561  108.741561   \n",
      "1923592   52.146218      0.518988      0.302811  106.410766  106.410766   \n",
      "1923593   86.995987      0.562395      0.162079  114.968632  114.968632   \n",
      "1923594   77.384790     -0.170784     -0.039045  115.432935  115.432935   \n",
      "1923595   80.500496      0.032415      0.476934  113.202502  113.202502   \n",
      "1923596   71.695188      0.580930      0.288601  112.965787  112.965787   \n",
      "1923597   83.130070      0.458303      0.238864  109.187008  109.187008   \n",
      "1923598   82.429923      0.309572      0.445863  109.560917  109.560917   \n",
      "1923599   66.896564      0.528636      0.342626  105.207888  105.207888   \n",
      "1923600   79.021678      0.317565      0.243044  106.436723  106.436723   \n",
      "1923601  106.028390      0.418359      0.121306  110.123001  110.123001   \n",
      "1923602   62.991991      0.580532      0.354852  107.689690  107.689690   \n",
      "1923603   86.244142     -0.105973      0.184417  113.140452  113.140452   \n",
      "\n",
      "               thrust  \n",
      "39854    41363.566118  \n",
      "39855    40172.442505  \n",
      "39856    39710.014569  \n",
      "39857    40420.927208  \n",
      "39858    41671.670606  \n",
      "39859    44885.895180  \n",
      "39860    41733.619110  \n",
      "39861    41306.701201  \n",
      "39862    41746.836576  \n",
      "39863    41028.896898  \n",
      "39864    40407.599431  \n",
      "39865    40288.978517  \n",
      "39866    40576.311585  \n",
      "39867    42349.980875  \n",
      "39868    38659.195932  \n",
      "39869    38986.818066  \n",
      "39870    41117.345284  \n",
      "39871    41361.640378  \n",
      "39872    41762.736272  \n",
      "39873    41296.935913  \n",
      "39874    42629.735111  \n",
      "39875    42320.034446  \n",
      "39876    40482.508460  \n",
      "39877    39565.189361  \n",
      "39878    41411.581767  \n",
      "39879    40894.626264  \n",
      "39880    40659.426598  \n",
      "39881    42443.443120  \n",
      "39882    40279.321402  \n",
      "39883    41265.446246  \n",
      "...               ...  \n",
      "1923574  45697.226953  \n",
      "1923575  43989.613609  \n",
      "1923576  45892.087578  \n",
      "1923577  44710.036705  \n",
      "1923578  43289.124994  \n",
      "1923579  44058.736127  \n",
      "1923580  43813.510878  \n",
      "1923581  46527.300719  \n",
      "1923582  43411.532722  \n",
      "1923583  44492.496224  \n",
      "1923584  47736.060392  \n",
      "1923585  44115.137215  \n",
      "1923586  42980.578842  \n",
      "1923587  46101.656659  \n",
      "1923588  45635.018651  \n",
      "1923589  44193.784430  \n",
      "1923590  43325.486266  \n",
      "1923591  44096.911194  \n",
      "1923592  42289.514902  \n",
      "1923593  46965.700167  \n",
      "1923594  46629.340033  \n",
      "1923595  45731.015821  \n",
      "1923596  45203.939600  \n",
      "1923597  43824.088715  \n",
      "1923598  43385.168766  \n",
      "1923599  42689.338709  \n",
      "1923600  43038.530055  \n",
      "1923601  43695.238783  \n",
      "1923602  43524.487699  \n",
      "1923603  45633.550691  \n",
      "\n",
      "[386607 rows x 17 columns]\n"
     ]
    }
   ],
   "source": [
    "\n",
    "print (custName)\n",
    "#print(bdmg[(bdmg['engine_type']==2) & (bdmg['customer']=='ACC')])\n",
    "print(bdmg[(bdmg['engine_type']==1) & (bdmg['customer']=='DME')])"
   ]
  },
  {
   "cell_type": "code",
   "execution_count": 123,
   "metadata": {
    "collapsed": false,
    "deletable": true,
    "editable": true
   },
   "outputs": [
    {
     "data": {
      "image/png": "[encoded data removed]",
      "text/plain": [
       "<matplotlib.figure.Figure at 0x7ff753a43978>"
      ]
     },
     "metadata": {},
     "output_type": "display_data"
    },
    {
     "data": {
      "image/png": "[encoded data removed]",
      "text/plain": [
       "<matplotlib.figure.Figure at 0x7ff7f7e22780>"
      ]
     },
     "metadata": {},
     "output_type": "display_data"
    },
    {
     "data": {
      "image/png": "[encoded data removed]",
      "text/plain": [
       "<matplotlib.figure.Figure at 0x7ff81ccf1940>"
      ]
     },
     "metadata": {},
     "output_type": "display_data"
    },
    {
     "data": {
      "image/png": "[encoded data removed]",
      "text/plain": [
       "<matplotlib.figure.Figure at 0x7ff71f54b358>"
      ]
     },
     "metadata": {},
     "output_type": "display_data"
    },
    {
     "data": {
      "image/png": "[encoded data removed]",
      "text/plain": [
       "<matplotlib.figure.Figure at 0x7ff726255518>"
      ]
     },
     "metadata": {},
     "output_type": "display_data"
    }
   ],
   "source": [
    "def graficamela(data, explode, labels):\n",
    "    fig1, ax1 = plt.subplots()\n",
    "    ax1.pie(data, explode=explode, labels=labels, autopct='%1.1f%%',\n",
    "            shadow=True, startangle=90)\n",
    "    ax1.axis('equal')  # Equal aspect ratio ensures that pie is drawn as a circle.\n",
    "\n",
    "    plt.show()\n",
    "\n",
    "labels = 'ACC', 'ASI', 'DME', 'FAR', 'SLA'\n",
    "labels_f = 'Fallidos', 'No Fallidos'\n",
    "\n",
    "datas = [\n",
    "    bdmg[(bdmg['engine_type']==1) & (bdmg['customer']=='ACC')],\n",
    "    bdmg[(bdmg['engine_type']==1) & (bdmg['customer']=='ASI')],\n",
    "    bdmg[(bdmg['engine_type']==1) & (bdmg['customer']=='DME')],\n",
    "    bdmg[(bdmg['engine_type']==1) & (bdmg['customer']=='FAR')],\n",
    "    bdmg[(bdmg['engine_type']==1) & (bdmg['customer']=='SLA')],\n",
    "    bdmg[(bdmg['engine_type']==2) & (bdmg['customer']=='ACC')],\n",
    "    bdmg[(bdmg['engine_type']==2) & (bdmg['customer']=='ASI')],\n",
    "    bdmg[(bdmg['engine_type']==2) & (bdmg['customer']=='DME')],\n",
    "    bdmg[(bdmg['engine_type']==2) & (bdmg['customer']=='FAR')],\n",
    "    bdmg[(bdmg['engine_type']==2) & (bdmg['customer']=='SLA')],\n",
    "    bdmg[bdmg['category']==0],\n",
    "    bdmg[bdmg['category']==1],\n",
    "    bdmg[(bdmg['category']==0) & (bdmg['engine_type']==1)],\n",
    "    bdmg[(bdmg['category']==0) & (bdmg['engine_type']==2)],\n",
    "    bdmg[(bdmg['category']==1) & (bdmg['engine_type']==1)],\n",
    "    bdmg[(bdmg['category']==1) & (bdmg['engine_type']==2)],\n",
    "]\n",
    "\n",
    "data_1 = []\n",
    "data_2 = []\n",
    "data_3 = []\n",
    "data_4 = []\n",
    "data_5 = []\n",
    "\n",
    "i = 0\n",
    "\n",
    "for data in datas:\n",
    "    if 5 > i:\n",
    "        data_1.append(data['engine_id'].count())\n",
    "    elif 10 > i:\n",
    "        data_2.append(data['engine_id'].count())\n",
    "    elif 12 > i:\n",
    "        data_3.append(data['engine_id'].count())\n",
    "    elif 14 > i:\n",
    "        data_4.append(data['engine_id'].count())\n",
    "    elif 16 > i:\n",
    "        data_5.append(data['engine_id'].count())\n",
    "    i += 1\n",
    "\n",
    "explode = (0, 0, 0, 0, 0) \n",
    "explode_f = (0, 0) \n",
    "\n",
    "graficamela(data_1, explode, labels)\n",
    "graficamela(data_2, explode, labels)\n",
    "graficamela(data_3, explode_f, labels_f)\n",
    "graficamela(data_4, explode_f, labels_f)\n",
    "graficamela(data_5, explode_f, labels_f)\n"
   ]
  },
  {
   "cell_type": "code",
   "execution_count": null,
   "metadata": {
    "collapsed": false,
    "deletable": true,
    "editable": true
   },
   "outputs": [
    {
     "name": "stdout",
     "output_type": "stream",
     "text": [
      "engine 1\n",
      "min no fallo 9\n",
      "max no fallo 41\n",
      "min si fallo 51\n",
      "max si fallo 83\n",
      "engine 2\n",
      "min no fallo 4\n",
      "max no fallo 46\n",
      "min si fallo 50\n",
      "max no fallo 82\n"
     ]
    }
   ],
   "source": [
    "b1g = bdmg[(bdmg['engine_type']==1) & (bdmg['category']==0)]\n",
    "b1f = bdmg[(bdmg['engine_type']==1) & (bdmg['category']==1)]\n",
    "b2g = bdmg[(bdmg['engine_type']==2) & (bdmg['category']==0)]\n",
    "b2f = bdmg[(bdmg['engine_type']==2) & (bdmg['category']==1)]\n",
    "\n",
    "print(\"engine 1\")\n",
    "print(\"min no fallo \" + str(b1g['damage'].min()))\n",
    "print(\"max no fallo \" + str(b1g['damage'].max()))\n",
    "print(\"min si fallo \" + str(b1f['damage'].min()))\n",
    "print(\"max si fallo \" + str(b1f['damage'].max()))\n",
    "print(\"engine 2\")\n",
    "print(\"min no fallo \" + str(b2g['damage'].min()))\n",
    "print(\"max no fallo \" + str(b2g['damage'].max()))\n",
    "print(\"min si fallo \" + str(b2f['damage'].min()))\n",
    "print(\"max no fallo \" + str(b2f['damage'].max()))\n",
    "\n",
    "'''\n",
    "ind = np.arange(5)                # the x locations for the groups\n",
    "width = 0.35 \n",
    "fig = plt.figure()\n",
    "ax = fig.add_subplot(111)\n",
    "\n",
    "rects1 = ax.bar(ind, b1g,width, color='black')\n",
    "rects2 = ax.bar(ind, b1f,width, color='red')\n",
    "\n",
    "ax.set_xlim(-width,len(ind)+width)\n",
    "ax.set_ylim(0,45)\n",
    "ax.set_ylabel('Damage')\n",
    "ax.set_title('algo')\n",
    "\n",
    "## add a legend\n",
    "ax.legend( (rects1[0], rects2[0]), ('good', 'bad') )\n",
    "\n",
    "plt.show()\n",
    "'''\n",
    "#subset = bdmg[['engine_type','category', 'damage']]\n",
    "#subset.plot()\n",
    "fig, ax = plt.subplots(1, 1)\n",
    "ax.get_xaxis().set_visible(True)\n",
    "subset.plot(table=True, ax=ax)"
   ]
  },
  {
   "cell_type": "code",
   "execution_count": null,
   "metadata": {
    "collapsed": true,
    "deletable": true,
    "editable": true
   },
   "outputs": [],
   "source": []
  }
 ],
 "metadata": {
  "kernelspec": {
   "display_name": "Python 3",
   "language": "python",
   "name": "python3"
  },
  "language_info": {
   "codemirror_mode": {
    "name": "ipython",
    "version": 3
   },
   "file_extension": ".py",
   "mimetype": "text/x-python",
   "name": "python",
   "nbconvert_exporter": "python",
   "pygments_lexer": "ipython3",
   "version": "3.5.2"
  }
 },
 "nbformat": 4,
 "nbformat_minor": 2
}
