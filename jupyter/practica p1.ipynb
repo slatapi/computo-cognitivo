{
 "cells": [
  {
   "cell_type": "code",
   "execution_count": 49,
   "metadata": {
    "collapsed": true,
    "deletable": true,
    "editable": true
   },
   "outputs": [],
   "source": [
    "import pandas as pd\n",
    "import scipy as sp\n",
    "import sklearn as skl\n",
    "import numpy as np\n",
    "import matplotlib as mtplt\n",
    "%matplotlib inline\n",
    "import tensorflow as tf"
   ]
  },
  {
   "cell_type": "code",
   "execution_count": 50,
   "metadata": {
    "collapsed": false,
    "deletable": true,
    "editable": true
   },
   "outputs": [],
   "source": [
    "bdmg = pd.read_csv('../files/blade_damage_assessment.csv', low_memory=False)\n",
    "bdmgtest = pd.read_csv('../files/blade_damage_assessment_test.csv', low_memory=False)"
   ]
  },
  {
   "cell_type": "code",
   "execution_count": 51,
   "metadata": {
    "collapsed": false,
    "deletable": true,
    "editable": true
   },
   "outputs": [
    {
     "data": {
      "text/html": [
       "<div>\n",
       "<table border=\"1\" class=\"dataframe\">\n",
       "  <thead>\n",
       "    <tr style=\"text-align: right;\">\n",
       "      <th></th>\n",
       "      <th>engine_id</th>\n",
       "      <th>customer</th>\n",
       "      <th>engine_type</th>\n",
       "      <th>category</th>\n",
       "      <th>damage</th>\n",
       "      <th>flight_id</th>\n",
       "      <th>t_1</th>\n",
       "      <th>t_2</th>\n",
       "      <th>t_3</th>\n",
       "      <th>t_4</th>\n",
       "      <th>t_oil</th>\n",
       "      <th>p_oil</th>\n",
       "      <th>vibrations_2</th>\n",
       "      <th>vibrations_4</th>\n",
       "      <th>core_speed</th>\n",
       "      <th>fan_speed</th>\n",
       "      <th>thrust</th>\n",
       "    </tr>\n",
       "  </thead>\n",
       "  <tbody>\n",
       "    <tr>\n",
       "      <th>0</th>\n",
       "      <td>700000</td>\n",
       "      <td>ACC</td>\n",
       "      <td>EX-50B</td>\n",
       "      <td>non-failed</td>\n",
       "      <td>38</td>\n",
       "      <td>1</td>\n",
       "      <td>27.169333</td>\n",
       "      <td>97.409398</td>\n",
       "      <td>568.554307180454</td>\n",
       "      <td>800.617771526119</td>\n",
       "      <td>73.664163</td>\n",
       "      <td>59.755336</td>\n",
       "      <td>0.0844030348911414</td>\n",
       "      <td>0.288484308226124</td>\n",
       "      <td>103.988490040037</td>\n",
       "      <td>86.759646</td>\n",
       "      <td>43824.077117</td>\n",
       "    </tr>\n",
       "    <tr>\n",
       "      <th>1</th>\n",
       "      <td>700000</td>\n",
       "      <td>ACC</td>\n",
       "      <td>EX-50B</td>\n",
       "      <td>non-failed</td>\n",
       "      <td>38</td>\n",
       "      <td>2</td>\n",
       "      <td>34.423444</td>\n",
       "      <td>131.146137</td>\n",
       "      <td>709.525734761479</td>\n",
       "      <td>904.861162536342</td>\n",
       "      <td>83.995234</td>\n",
       "      <td>91.238090</td>\n",
       "      <td>0.11583599227328</td>\n",
       "      <td>0.260483903090653</td>\n",
       "      <td>110.245548851895</td>\n",
       "      <td>92.174964</td>\n",
       "      <td>48131.620917</td>\n",
       "    </tr>\n",
       "    <tr>\n",
       "      <th>2</th>\n",
       "      <td>700000</td>\n",
       "      <td>ACC</td>\n",
       "      <td>EX-50B</td>\n",
       "      <td>non-failed</td>\n",
       "      <td>38</td>\n",
       "      <td>3</td>\n",
       "      <td>21.498867</td>\n",
       "      <td>95.264770</td>\n",
       "      <td>554.715309731843</td>\n",
       "      <td>779.022122640642</td>\n",
       "      <td>88.876758</td>\n",
       "      <td>99.558113</td>\n",
       "      <td>0.146035417636678</td>\n",
       "      <td>0.283297051916144</td>\n",
       "      <td>103.556756846575</td>\n",
       "      <td>88.105862</td>\n",
       "      <td>43676.985766</td>\n",
       "    </tr>\n",
       "    <tr>\n",
       "      <th>3</th>\n",
       "      <td>700000</td>\n",
       "      <td>ACC</td>\n",
       "      <td>EX-50B</td>\n",
       "      <td>non-failed</td>\n",
       "      <td>38</td>\n",
       "      <td>4</td>\n",
       "      <td>19.168106</td>\n",
       "      <td>82.892583</td>\n",
       "      <td>526.308476851884</td>\n",
       "      <td>757.484591914129</td>\n",
       "      <td>75.986135</td>\n",
       "      <td>102.696245</td>\n",
       "      <td>0.805832251423062</td>\n",
       "      <td>0.139379412491953</td>\n",
       "      <td>102.115886237848</td>\n",
       "      <td>85.823801</td>\n",
       "      <td>42946.711363</td>\n",
       "    </tr>\n",
       "    <tr>\n",
       "      <th>4</th>\n",
       "      <td>700000</td>\n",
       "      <td>ACC</td>\n",
       "      <td>EX-50B</td>\n",
       "      <td>non-failed</td>\n",
       "      <td>38</td>\n",
       "      <td>5</td>\n",
       "      <td>15.651451</td>\n",
       "      <td>88.250109</td>\n",
       "      <td>639.345044901446</td>\n",
       "      <td>814.660706963478</td>\n",
       "      <td>83.866920</td>\n",
       "      <td>96.889143</td>\n",
       "      <td>0.314611446543913</td>\n",
       "      <td>-0.00690196872612958</td>\n",
       "      <td>107.04135764277</td>\n",
       "      <td>90.942846</td>\n",
       "      <td>46685.678299</td>\n",
       "    </tr>\n",
       "  </tbody>\n",
       "</table>\n",
       "</div>"
      ],
      "text/plain": [
       "   engine_id customer engine_type    category  damage  flight_id        t_1  \\\n",
       "0     700000      ACC      EX-50B  non-failed      38          1  27.169333   \n",
       "1     700000      ACC      EX-50B  non-failed      38          2  34.423444   \n",
       "2     700000      ACC      EX-50B  non-failed      38          3  21.498867   \n",
       "3     700000      ACC      EX-50B  non-failed      38          4  19.168106   \n",
       "4     700000      ACC      EX-50B  non-failed      38          5  15.651451   \n",
       "\n",
       "          t_2               t_3               t_4      t_oil       p_oil  \\\n",
       "0   97.409398  568.554307180454  800.617771526119  73.664163   59.755336   \n",
       "1  131.146137  709.525734761479  904.861162536342  83.995234   91.238090   \n",
       "2   95.264770  554.715309731843  779.022122640642  88.876758   99.558113   \n",
       "3   82.892583  526.308476851884  757.484591914129  75.986135  102.696245   \n",
       "4   88.250109  639.345044901446  814.660706963478  83.866920   96.889143   \n",
       "\n",
       "         vibrations_2          vibrations_4        core_speed  fan_speed  \\\n",
       "0  0.0844030348911414     0.288484308226124  103.988490040037  86.759646   \n",
       "1    0.11583599227328     0.260483903090653  110.245548851895  92.174964   \n",
       "2   0.146035417636678     0.283297051916144  103.556756846575  88.105862   \n",
       "3   0.805832251423062     0.139379412491953  102.115886237848  85.823801   \n",
       "4   0.314611446543913  -0.00690196872612958   107.04135764277  90.942846   \n",
       "\n",
       "         thrust  \n",
       "0  43824.077117  \n",
       "1  48131.620917  \n",
       "2  43676.985766  \n",
       "3  42946.711363  \n",
       "4  46685.678299  "
      ]
     },
     "execution_count": 51,
     "metadata": {},
     "output_type": "execute_result"
    }
   ],
   "source": [
    "bdmg.head(5)"
   ]
  },
  {
   "cell_type": "code",
   "execution_count": 52,
   "metadata": {
    "collapsed": false
   },
   "outputs": [
    {
     "name": "stdout",
     "output_type": "stream",
     "text": [
      "deleted rows0\n"
     ]
    }
   ],
   "source": [
    "#pre clean - all na\n",
    "totorg = bdmg.shape[0]\n",
    "org= bdmg.shape[0]\n",
    "bdmg.dropna(how='all') #drop all rows that all columns are NA\n",
    "fin = bdmg.shape[0]\n",
    "del1 = org - fin\n",
    "print('deleted rows'+ str(del1))"
   ]
  },
  {
   "cell_type": "code",
   "execution_count": 53,
   "metadata": {
    "collapsed": false,
    "deletable": true,
    "editable": true
   },
   "outputs": [
    {
     "name": "stdout",
     "output_type": "stream",
     "text": [
      "deleted rows299\n"
     ]
    }
   ],
   "source": [
    "# data clean 1 - temperatures\n",
    "org= bdmg.shape[0]\n",
    "#bdmg[\"t_3\"] = bdmg[\"t_3\"].astype(str).convert_objects(convert_numeric=True)\n",
    "bdmg[\"t_3\"] = pd.to_numeric(bdmg[\"t_3\"],errors=\"coerce\")\n",
    "bdmg[\"t_4\"] = pd.to_numeric(bdmg[\"t_4\"],errors=\"coerce\")\n",
    "bdmg.dropna(subset=['t_3'])\n",
    "bdmg.dropna(subset=['t_4'])\n",
    "\n",
    "bdmg = bdmg.drop(bdmg[bdmg.t_1 < -273].index)\n",
    "bdmg = bdmg.drop(bdmg[bdmg.t_2 < -273].index)\n",
    "bdmg = bdmg.drop(bdmg[bdmg.t_3 < -273].index)\n",
    "bdmg = bdmg.drop(bdmg[bdmg.t_4 < -273].index)\n",
    "bdmg = bdmg.drop(bdmg[bdmg.t_oil < -273].index)\n",
    "fin = bdmg.shape[0]\n",
    "del2 = org - fin\n",
    "print('deleted rows'+ str(del2))"
   ]
  },
  {
   "cell_type": "code",
   "execution_count": 54,
   "metadata": {
    "collapsed": false
   },
   "outputs": [
    {
     "name": "stdout",
     "output_type": "stream",
     "text": [
      "deleted rows186\n"
     ]
    }
   ],
   "source": [
    "#data clean 2 - speeds & thrust\n",
    "org= bdmg.shape[0]\n",
    "\n",
    "bdmg['core_speed'] = pd.to_numeric(bdmg['core_speed'],errors='coerce')\n",
    "bdmg['fan_speed'] = pd.to_numeric(bdmg['core_speed'],errors='coerce')\n",
    "bdmg['thrust'] = pd.to_numeric(bdmg['thrust'],errors='coerce')\n",
    "bdmg.dropna(subset=['core_speed'])\n",
    "bdmg.dropna(subset=['fan_speed'])\n",
    "bdmg.dropna(subset=['thrust'])\n",
    "\n",
    "bdmg = bdmg.drop(bdmg[bdmg.core_speed < 0].index)\n",
    "bdmg = bdmg.drop(bdmg[bdmg.fan_speed < 0].index)\n",
    "bdmg = bdmg.drop(bdmg[bdmg.thrust < 0].index)\n",
    "\n",
    "fin = bdmg.shape[0]\n",
    "del3 = org -fin\n",
    "print('deleted rows'+ str(del3))"
   ]
  },
  {
   "cell_type": "code",
   "execution_count": 55,
   "metadata": {
    "collapsed": false
   },
   "outputs": [
    {
     "name": "stdout",
     "output_type": "stream",
     "text": [
      "deleted rows0\n"
     ]
    }
   ],
   "source": [
    "#data clean 3 - preasure\n",
    "org= bdmg.shape[0]\n",
    "\n",
    "bdmg['p_oil'] = pd.to_numeric(bdmg['p_oil'],errors='coerce')\n",
    "bdmg.dropna(subset=['p_oil'])\n",
    "\n",
    "bdmg = bdmg.drop(bdmg[bdmg.p_oil < 0].index)\n",
    "\n",
    "fin = bdmg.shape[0]\n",
    "del4 = org -fin\n",
    "print('deleted rows'+ str(del4))"
   ]
  },
  {
   "cell_type": "code",
   "execution_count": 57,
   "metadata": {
    "collapsed": false
   },
   "outputs": [
    {
     "name": "stdout",
     "output_type": "stream",
     "text": [
      "deleted rows0\n",
      "deleted rows485\n",
      "percentage deleted rows 0.02472728607583578%\n"
     ]
    }
   ],
   "source": [
    "#data clean 4 - vibrations\n",
    "org= bdmg.shape[0]\n",
    "\n",
    "bdmg['vibrations_2'] = pd.to_numeric(bdmg['vibrations_2'],errors='coerce')\n",
    "bdmg.dropna(subset=['vibrations_2'])\n",
    "bdmg['vibrations_4'] = pd.to_numeric(bdmg['vibrations_4'],errors='coerce')\n",
    "bdmg.dropna(subset=['vibrations_4'])\n",
    "\n",
    "fin = bdmg.shape[0]\n",
    "del5 = org -fin\n",
    "print('deleted rows'+ str(del5))\n",
    "\n",
    "print('deleted rows' + str(del1+del2+del3+del4+del5))\n",
    "print('percentage deleted rows '+str(((del1+del2+del3+del4+del5)/totorg)*100 ) +'%')"
   ]
  },
  {
   "cell_type": "code",
   "execution_count": null,
   "metadata": {
    "collapsed": true
   },
   "outputs": [],
   "source": []
  }
 ],
 "metadata": {
  "kernelspec": {
   "display_name": "Python 3",
   "language": "python",
   "name": "python3"
  },
  "language_info": {
   "codemirror_mode": {
    "name": "ipython",
    "version": 3
   },
   "file_extension": ".py",
   "mimetype": "text/x-python",
   "name": "python",
   "nbconvert_exporter": "python",
   "pygments_lexer": "ipython3",
   "version": "3.5.2"
  }
 },
 "nbformat": 4,
 "nbformat_minor": 2
}
